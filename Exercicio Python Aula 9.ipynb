{
 "cells": [
  {
   "cell_type": "markdown",
   "metadata": {},
   "source": [
    "Diego Silva Santini dos Santos RA:816117855"
   ]
  },
  {
   "cell_type": "markdown",
   "metadata": {},
   "source": [
    "1 Faça um Programa que peça o raio de um círculo, calcule e mostre sua área."
   ]
  },
  {
   "cell_type": "code",
   "execution_count": 1,
   "metadata": {},
   "outputs": [
    {
     "name": "stdout",
     "output_type": "stream",
     "text": [
      "Digite o raio 5\n",
      "78.5\n"
     ]
    }
   ],
   "source": [
    "x = float (input(\"Digite o raio \"))\n",
    "\n",
    "area = (3.14 * (x**2))\n",
    "\n",
    "print(area);"
   ]
  },
  {
   "cell_type": "markdown",
   "metadata": {},
   "source": [
    "2 Faça um Programa que calcule a área de um quadrado, em seguida mostre o dobro\n",
    "desta área para o usuário."
   ]
  },
  {
   "cell_type": "code",
   "execution_count": 3,
   "metadata": {},
   "outputs": [
    {
     "name": "stdout",
     "output_type": "stream",
     "text": [
      "Digite lado do quadrado: 4\n",
      "Área do quadrado: 16.0 \n",
      "Dobro da área: 32.0\n"
     ]
    }
   ],
   "source": [
    "l = float( input (\"Digite lado do quadrado: \"))\n",
    "area = l**2;\n",
    "area_dobro = area * 2;\n",
    "\n",
    "print('Área do quadrado: {} \\nDobro da área: {}'.format(area, area_dobro))"
   ]
  },
  {
   "cell_type": "markdown",
   "metadata": {},
   "source": [
    "3 Faça um Programa que pergunte quanto você ganha por hora e o número de horas\n",
    "trabalhadas no mês. Calcule e mostre o total do seu salário no referido mês."
   ]
  },
  {
   "cell_type": "code",
   "execution_count": 4,
   "metadata": {},
   "outputs": [
    {
     "name": "stdout",
     "output_type": "stream",
     "text": [
      "Digite o seu sálario por hora 5\n",
      "Digite o número de horas trabalhadas no mês 132\n",
      "Seu sálario é: R$ 660.0\n"
     ]
    }
   ],
   "source": [
    "salario = float(input(\"Digite o seu sálario por hora \"))\n",
    "hora    = int(input(\"Digite o número de horas trabalhadas no mês \"))\n",
    "\n",
    "total   = salario * hora\n",
    "\n",
    "print('Seu sálario é: R$ {}'.format(total))"
   ]
  },
  {
   "cell_type": "markdown",
   "metadata": {},
   "source": [
    "4 Faça um Programa que peça a temperatura em graus Farenheit, transforme e\n",
    "mostre a temperatura em graus Celsius. C = (5 * (F-32) / 9)."
   ]
  },
  {
   "cell_type": "code",
   "execution_count": 5,
   "metadata": {},
   "outputs": [
    {
     "name": "stdout",
     "output_type": "stream",
     "text": [
      "Digite a temperatura em graus Farenheit 74\n",
      "Graus Celsius:      23.33 °C\n"
     ]
    }
   ],
   "source": [
    "f = int(input(\"Digite a temperatura em graus Farenheit \"))\n",
    "\n",
    "c = (5*(f-32)/9)\n",
    "\n",
    "print(\"Graus Celsius: {0:10.2f} °C\".format(c))"
   ]
  },
  {
   "cell_type": "markdown",
   "metadata": {},
   "source": [
    "5 Faça um Programa que peça a temperatura em graus Celsius, transforme e mostre\n",
    "em graus Farenheit."
   ]
  },
  {
   "cell_type": "code",
   "execution_count": 6,
   "metadata": {},
   "outputs": [
    {
     "name": "stdout",
     "output_type": "stream",
     "text": [
      "Digte a temperatura em graus Celsius 23.33\n",
      "graus Farenheit:      73.99\n"
     ]
    }
   ],
   "source": [
    "c =float(input(\"Digte a temperatura em graus Celsius \"))\n",
    "\n",
    "f = ((1.8 * c) + 32)\n",
    "\n",
    "print(\"graus Farenheit: {0:10.2f}\".format(f))"
   ]
  },
  {
   "cell_type": "markdown",
   "metadata": {},
   "source": [
    "6 Faça um Programa que peça 2 números inteiros e um número real. Calcule e\n",
    "mostre:\n",
    "- o produto do dobro do primeiro com metade do segundo .\n",
    "- a soma do triplo do primeiro com o terceiro.\n",
    "- o terceiro elevado ao cubo."
   ]
  },
  {
   "cell_type": "code",
   "execution_count": 10,
   "metadata": {},
   "outputs": [
    {
     "name": "stdout",
     "output_type": "stream",
     "text": [
      "Digite um numero inteiro : 8\n",
      "Digite segundo numero inteiro: 16\n",
      "Digite um numero real: 4\n",
      "o produto do dobro do primeiro com metade do segundo é:  2.0\n",
      "a soma do triplo do primeiro com o terceiro é:  28.0\n",
      "o terceiro elevado ao cubo é:  64.0\n"
     ]
    }
   ],
   "source": [
    "n1 = int(input(\"Digite um numero inteiro : \"))\n",
    "n2 = int(input(\"Digite segundo numero inteiro: \"))\n",
    "n3 = float(input(\"Digite um numero real: \"))\n",
    "\n",
    "m = (n1*2) / (n2/2)\n",
    "print(\"o produto do dobro do primeiro com metade do segundo é: \",m)\n",
    "m2 = (n1*3) + n3\n",
    "print(\"a soma do triplo do primeiro com o terceiro é: \",m2)\n",
    "m3 = n3**3\n",
    "print(\"o terceiro elevado ao cubo é: \",m3)\n"
   ]
  },
  {
   "cell_type": "markdown",
   "metadata": {},
   "source": [
    "7 João Papo-de-Pescador, homem de bem, comprou um microcomputador para\n",
    "controlar o rendimento diário de seu trabalho. Toda vez que ele traz um peso de\n",
    "peixes maior que o estabelecido pelo regulamento de pesca do estado de São Paulo\n",
    "(50 quilos) deve pagar uma multa de R$ 4,00 por quilo excedente. João precisa que\n",
    "você faça um programa que leia a variável peso (peso de peixes) e verifique se há\n",
    "excesso. Se houver, gravar na variável excesso e na variável multa o valor da multa\n",
    "que João deverá pagar. Caso contrário mostrar tais variáveis com o conteúdo ZERO.\n"
   ]
  },
  {
   "cell_type": "code",
   "execution_count": 19,
   "metadata": {},
   "outputs": [
    {
     "name": "stdout",
     "output_type": "stream",
     "text": [
      "Digite o peso: 50\n",
      "Sem excesso\n"
     ]
    }
   ],
   "source": [
    "p = float(input(\"Digite o peso: \"))\n",
    "\n",
    "if(p > 50):\n",
    "    multa = p - 50;\n",
    "    print(\"Há excesso de \",multa, \"kg\")\n",
    "    m = multa * 4;\n",
    "    print(\"Assim o novo preço é:\",m,\"reais\")\n",
    "else:\n",
    "    print(\"Sem excesso\")"
   ]
  },
  {
   "cell_type": "markdown",
   "metadata": {},
   "source": [
    "8 Faça um Programa que pergunte quanto você ganha por hora e o número de horas\n",
    "trabalhadas no mês. Calcule e mostre o total do seu salário no referido mês,\n",
    "sabendo-se que são descontados 11% para o Imposto de Renda, 8% para o INSS e 5%\n",
    "para o sindicato, faça um programa que nos dê:\n",
    "- salário bruto.\n",
    "- quanto pagou ao INSS.\n",
    "- quanto pagou ao sindicato.\n",
    "- o salário líquido.\n",
    "- calcule os descontos e o salário líquido"
   ]
  },
  {
   "cell_type": "code",
   "execution_count": 21,
   "metadata": {},
   "outputs": [
    {
     "name": "stdout",
     "output_type": "stream",
     "text": [
      "Digite o seu sálario por hora: 5\n",
      "Digite o número de horas trabalhadas no mês: 132\n",
      "Imposto de renda: 72.6 \n",
      " INSS:  52.8 \n",
      " Sindicato: 33.0  \n",
      " Seu sálario é: 501.6\n"
     ]
    }
   ],
   "source": [
    "sh = float(input(\"Digite o seu sálario por hora: \"))\n",
    "hora    = int(input(\"Digite o número de horas trabalhadas no mês: \"))\n",
    "\n",
    "salario   = sh * hora\n",
    "\n",
    "renda = salario * 11/100\n",
    "inss  = salario * 8/100\n",
    "sindicato = salario * 5/100\n",
    "\n",
    "sl = (salario - (renda + inss + sindicado))\n",
    "print('Imposto de renda:',renda,'\\n INSS: ',inss,'\\n Sindicato:',sindicato,' \\n Seu sálario é:',sl)"
   ]
  },
  {
   "cell_type": "markdown",
   "metadata": {},
   "source": [
    "9 Faça um programa que leia 2 strings e informe o conteúdo delas seguido do seu\n",
    "comprimento. Informe também se as duas strings possuem o mesmo comprimento e\n",
    "são iguais ou diferentes no conteúdo."
   ]
  },
  {
   "cell_type": "code",
   "execution_count": 22,
   "metadata": {},
   "outputs": [
    {
     "name": "stdout",
     "output_type": "stream",
     "text": [
      "Digite uma string -> O brasil é hexa em 2022\n",
      "Digite a segunda string -> O brasil é hexa em 2022!\n",
      "1 Tamanho de O brasil é hexa em 2022: 23 caracteres\n",
      "2 Tamanho de O brasil é hexa em 2022!: 24 caracteres\n",
      "As duas strings possuem conteúdo diferente\n"
     ]
    }
   ],
   "source": [
    "s1 = input(\"Digite uma string -> \")\n",
    "s2 = input(\"Digite a segunda string -> \")\n",
    "\n",
    "t = len(s1);\n",
    "t2 = len(s2);\n",
    "\n",
    "print(\"1 Tamanho de {}: {} caracteres\\n2 Tamanho de {}: {} caracteres\".format(s1,len(s1),s2,len(s2)))\n",
    "if(t == t2):\n",
    "    print(\"As duas strings são de tamanhos iguais\")\n",
    "    \n",
    "else:\n",
    "    print(\"As duas strings possuem conteúdo diferente\")"
   ]
  },
  {
   "cell_type": "markdown",
   "metadata": {},
   "source": [
    "10 Faça um programa que permita ao usuário digitar o seu nome e em seguida\n",
    "mostre o nome do usuário de trás para frente utilizando somente letras maiúsculas.\n",
    "Dica: lembre−se que ao informar o nome o usuário pode digitar letras maiúsculas ou\n",
    "minúsculas. Observação: não use loops."
   ]
  },
  {
   "cell_type": "code",
   "execution_count": 23,
   "metadata": {},
   "outputs": [
    {
     "name": "stdout",
     "output_type": "stream",
     "text": [
      "Digite seu nome diego\n",
      "Seu nome de trás para frente OGEID\n"
     ]
    }
   ],
   "source": [
    "n = input(\"Digite seu nome \")\n",
    "i = n[::-1]\n",
    "print(\"Seu nome de trás para frente {}\".format(i.upper()))"
   ]
  },
  {
   "cell_type": "markdown",
   "metadata": {},
   "source": [
    "11 Faça um programa que solicite a data de nascimento (dd/mm/aaaa) do usuário e imprima a data com o nome do mês por extenso."
   ]
  },
  {
   "cell_type": "code",
   "execution_count": 24,
   "metadata": {},
   "outputs": [
    {
     "name": "stdout",
     "output_type": "stream",
     "text": [
      "Digite a data do seu nascimento (dd/mm/aaaa)04/11/1996\n",
      "Data de Nascimento: 04/11/1996\n",
      "Você nasceu em 04 de Novembro de 1996\n"
     ]
    }
   ],
   "source": [
    "d = input(\"Digite a data do seu nascimento (dd/mm/aaaa)\" )\n",
    "\n",
    "d1 = d[3]\n",
    "d2= d[4]\n",
    "\n",
    "m= d1 + d2\n",
    "\n",
    "dia = d[0] + d[1]\n",
    "\n",
    "ano = d[6:]\n",
    "\n",
    "calendario = {'01':'Janeiro','02':'Fevereiro','03':'Março','04':'Abril','05':'Maio','06':'Junho','07':'Julho','08':'Agosto','09':'Setembro','10':'Outubro','11':'Novembro','12':'Dezembro'}\n",
    "            \n",
    "print(\"Data de Nascimento: {}/{}/{}\\nVocê nasceu em {} de {} de {}\".format(dia,m,ano,dia,calendario[m],ano))"
   ]
  },
  {
   "cell_type": "markdown",
   "metadata": {},
   "source": [
    "12 Leet é uma forma de se escrever o alfabeto latino usando outros símbolos em\n",
    "lugar das letras, como números por exemplo. A própria palavra leet admite muitas\n",
    "variações, como l33t ou 1337. O uso do leet reflete uma subcultura relacionada ao\n",
    "mundo dos jogos de computador e internet, sendo muito usada para confundir os\n",
    "iniciantes e afirmar-se como parte de um grupo. Pesquise sobre as principais formas\n",
    "de traduzir as letras. Depois, faça um programa que peça uma texto e transforme-o\n",
    "para a grafia leet speak."
   ]
  },
  {
   "cell_type": "code",
   "execution_count": 25,
   "metadata": {},
   "outputs": [
    {
     "name": "stdout",
     "output_type": "stream",
     "text": [
      "Tradução: 1337\n"
     ]
    }
   ],
   "source": [
    "s = \"leet\"\n",
    "l = 1\n",
    "e = 3\n",
    "t = 7\n",
    "\n",
    "print(\"Tradução: {}{}{}{}\".format(l,e,e,t))"
   ]
  },
  {
   "cell_type": "markdown",
   "metadata": {},
   "source": [
    "13 Crie um programa que recebe uma lista de números e\n",
    "- retorne o maior elemento\n",
    "- retorne a soma dos elementos\n",
    "- retorne o número de ocorrências do primeiro elemento da lista\n",
    "- retorne a média dos elementos\n",
    "- retorne o valor mais próximo da média dos elementos\n",
    "- retorne a soma dos elementos com valor negativo\n",
    "- retorne a quantidade de vizinhos iguais"
   ]
  },
  {
   "cell_type": "code",
   "execution_count": 26,
   "metadata": {},
   "outputs": [
    {
     "name": "stdout",
     "output_type": "stream",
     "text": [
      "Insira o 1 elemento: 9\n",
      "Insira o 2 elemento: 8\n",
      "Insira o 3 elemento: 7\n",
      "Maior elemento:  9\n",
      "Soma dos elementos:  24\n",
      "Número de ocorrencias de 9: 1\n",
      "Média dos elementos:  8.0\n",
      "Número mais próximo da média:  9\n",
      "Soma dos elementos negativos:  0\n",
      "Vizinhos iguais:  0\n"
     ]
    }
   ],
   "source": [
    "list = [\n",
    "    int(input(\"Insira o 1 elemento: \")),\n",
    "    int(input(\"Insira o 2 elemento: \")),\n",
    "    int(input(\"Insira o 3 elemento: \"))\n",
    "]\n",
    "\n",
    "maior = list[0]\n",
    "soma = 0\n",
    "somaNeg = 0\n",
    "numOcorrenciasPrimeiro = 0\n",
    "vizinhos = 0\n",
    "anterior = list[0] + 1\n",
    "\n",
    "for num in list:\n",
    "    # maior\n",
    "    if num > maior:\n",
    "        maior = num\n",
    "    # soma\n",
    "    soma += num\n",
    "    # num de ocorrencias do primeiro\n",
    "    if num == list[0]:\n",
    "        numOcorrenciasPrimeiro += 1    \n",
    "    # soma de negativos\n",
    "    if num < 0:\n",
    "        somaNeg += num\n",
    "    # vizinhos iguais\n",
    "    if num == anterior:\n",
    "        vizinhos += 1\n",
    "    anterior = num\n",
    "# media\n",
    "media = soma / len(list)\n",
    "\n",
    "maisProximo = list[0]\n",
    "diferenca = media - list[0]\n",
    "menorDiferenca = diferenca\n",
    "for num in list:\n",
    "    #valor mais próximo da média\n",
    "    diferenca = media - num\n",
    "    if diferenca < 0:\n",
    "        diferenca = diferenca * -1\n",
    "    if diferenca < menorDiferenca:\n",
    "        menorDiferenca = diferenca\n",
    "        maisProximo = num\n",
    "        \n",
    "print(\"Maior elemento: \", maior)\n",
    "print(\"Soma dos elementos: \", soma)\n",
    "print(\"Número de ocorrencias de %i: %i\" % (list[0], numOcorrenciasPrimeiro))\n",
    "print(\"Média dos elementos: \", media)\n",
    "print(\"Número mais próximo da média: \", maisProximo)\n",
    "print(\"Soma dos elementos negativos: \", somaNeg)\n",
    "print(\"Vizinhos iguais: \", vizinhos)"
   ]
  },
  {
   "cell_type": "markdown",
   "metadata": {},
   "source": [
    "14 Faça um programa que receba duas listas e retorne True se são iguais ou False caso contrario. Duas listas são iguais se possuem os mesmos valores e na mesma ordem."
   ]
  },
  {
   "cell_type": "code",
   "execution_count": 27,
   "metadata": {},
   "outputs": [
    {
     "name": "stdout",
     "output_type": "stream",
     "text": [
      "As listas são iguais:  True\n",
      "As listas são iguais:  False\n",
      "As listas são iguais:  False\n"
     ]
    }
   ],
   "source": [
    "def saoIguais(list1, list2):\n",
    "    if len(list1) == len(list2):\n",
    "        for i in range(0, len(list1)):\n",
    "            if list1[i] != list2[i]:\n",
    "                return False\n",
    "        return True\n",
    "    return False\n",
    "\n",
    "#listas iguais\n",
    "list1, list2 = [15, 30, 60], [15, 30, 60]\n",
    "print(\"As listas são iguais: \", saoIguais(list1, list2))\n",
    "# listas diferentes em ordem\n",
    "list1, list2 = [15, 1, 30], [15, 30, 1]\n",
    "print(\"As listas são iguais: \", saoIguais(list1, list2))\n",
    "# listas diferentes em tamanho\n",
    "list1, list2 = [2, 6], [10, 8, 7]\n",
    "print(\"As listas são iguais: \", saoIguais(list1, list2))"
   ]
  },
  {
   "cell_type": "markdown",
   "metadata": {},
   "source": [
    "15 Faça um programa que receba duas listas e retorne True se têm os mesmos elementos ou False caso contrário Duas listas possuem os mesmos elementos quando são compostas pelos mesmos valores, mas não obrigatoriamente na mesma ordem."
   ]
  },
  {
   "cell_type": "code",
   "execution_count": 28,
   "metadata": {},
   "outputs": [
    {
     "name": "stdout",
     "output_type": "stream",
     "text": [
      "As listas possuem mesmo conteúdo:  True\n",
      "As listas possuem mesmo conteúdo:  True\n",
      "As listas possuem mesmo conteúdo:  False\n"
     ]
    }
   ],
   "source": [
    "def possuemMesmoConteudo(list1, list2):\n",
    "    list1.sort()\n",
    "    list2.sort()\n",
    "    if len(list1) == len(list2):\n",
    "        for i in range(0, len(list1)):\n",
    "            if list1[i] != list2[i]:\n",
    "                return False\n",
    "        return True\n",
    "    return False\n",
    "\n",
    "#listas iguais\n",
    "list1, list2 = [15, 30, 60], [15, 30, 60]\n",
    "print(\"As listas possuem mesmo conteúdo: \", possuemMesmoConteudo(list1, list2))\n",
    "# listas diferentes em ordem\n",
    "list1, list2 = [15, 1, 30], [15, 30, 1]\n",
    "print(\"As listas possuem mesmo conteúdo: \", possuemMesmoConteudo(list1, list2))\n",
    "# listas diferentes em tamanho\n",
    "list1, list2 = [2, 6], [10, 8, 7]\n",
    "print(\"As listas possuem mesmo conteúdo: \", possuemMesmoConteudo(list1, list2))"
   ]
  },
  {
   "cell_type": "markdown",
   "metadata": {},
   "source": [
    "16 Faça um programa que percorre uma lista com o seguinte formato: [['Brasil',\n",
    "'Italia', [10, 9]], ['Brasil', 'Espanha', [5, 7]], ['Italia', 'Espanha', [7,8]]]. Essa lista indica o\n",
    "número de faltas que cada time fez em cada jogo. Na lista acima, no jogo entre Brasil\n",
    "e Itália, o Brasil fez 10 faltas e a Itália fez 9.\n",
    "O programa deve imprimir na tela:\n",
    "- o total de faltas do campeonato\n",
    "- o time que fez mais faltas\n",
    "- o time que fez menos faltas"
   ]
  },
  {
   "cell_type": "code",
   "execution_count": 31,
   "metadata": {},
   "outputs": [
    {
     "name": "stdout",
     "output_type": "stream",
     "text": [
      "Soma:  45  Maior:  16  Menor:  14\n"
     ]
    }
   ],
   "source": [
    "falta = {'Brasil':15,'Italia':16,'Espanha':14}\n",
    "soma =sum(falta.values())\n",
    "maior = max(falta.values())\n",
    "menor = min(falta.values())\n",
    "print(\"Soma: \",soma,\" Maior: \",maior,\" Menor: \",menor)"
   ]
  },
  {
   "cell_type": "markdown",
   "metadata": {},
   "source": [
    "17 Escreva um programa que conta a quantidade de vogais em uma string e armazena tal quantidade em um dicionário, onde a chave é a vogal considerada"
   ]
  },
  {
   "cell_type": "code",
   "execution_count": 32,
   "metadata": {},
   "outputs": [
    {
     "name": "stdout",
     "output_type": "stream",
     "text": [
      "{'A': 1, 'E': 1, 'I': 3, 'O': 1}\n"
     ]
    }
   ],
   "source": [
    "d =\"Diego Santini\"\n",
    "\n",
    "dic={}\n",
    "dmaior= d.upper()\n",
    "if (\"A\" in dmaior):\n",
    "    dic['A']=dmaior.count(\"A\")\n",
    "if (\"E\" in dmaior):\n",
    "    dic['E']=dmaior.count(\"E\")\n",
    "if (\"I\" in dmaior):\n",
    "    dic['I']=dmaior.count(\"I\")\n",
    "if (\"O\" in dmaior):\n",
    "    dic['O']=dmaior.count(\"O\")\n",
    "if (\"U\" in dmaior):\n",
    "    dic['U']=dmaior.count(\"U\")\n",
    "print(dic)"
   ]
  },
  {
   "cell_type": "markdown",
   "metadata": {},
   "source": [
    "18 Escreva um programa que lê duas notas de vários alunos e armazena tais notas em um dicionário, onde a chave é o nome do aluno. A entrada de dados deve terminar quando for lida uma string vazia como nome. Escreva uma função que retorna a média do aluno, dado seu nome."
   ]
  },
  {
   "cell_type": "code",
   "execution_count": 7,
   "metadata": {},
   "outputs": [
    {
     "name": "stdout",
     "output_type": "stream",
     "text": [
      "Insira o nome do aluno: Di\n",
      "Insira a primeira nota: 10\n",
      "Insira a segunda nota: 9\n",
      "Insira o nome do aluno: Wil\n",
      "Insira a primeira nota: 9\n",
      "Insira a segunda nota: 9\n",
      "Insira o nome do aluno: \n",
      "Insira o nome do aluno o qual deseja ver a média: Di\n"
     ]
    },
    {
     "data": {
      "text/plain": [
       "9.5"
      ]
     },
     "execution_count": 7,
     "metadata": {},
     "output_type": "execute_result"
    }
   ],
   "source": [
    "dic = {}\n",
    "i = 0\n",
    "nome = input(\"Insira o nome do aluno: \")\n",
    "while nome != \"\":\n",
    "    dic[nome] = [\n",
    "        float(input(\"Insira a primeira nota: \")),\n",
    "        float(input(\"Insira a segunda nota: \"))\n",
    "        \n",
    "    ]\n",
    "    nome = input(\"Insira o nome do aluno: \")\n",
    "\n",
    "def media(nome):\n",
    "    return (dic[nome][0] + dic[nome][1]) / 2\n",
    "\n",
    "media(input(\"Insira o nome do aluno o qual deseja ver a média: \"))\n"
   ]
  },
  {
   "cell_type": "markdown",
   "metadata": {},
   "source": [
    " 19 Uma pista de Kart permite 10 voltas para cada um de 6 corredores. Escreva um programa que leia todos os tempos em segundos e os guarde em um dicionário, onde a chave é o nome do corredor. Ao final diga de quem foi a melhor volta da prova e em que volta; e ainda a classificação final em ordem (1o o campeão). O campeão é o que tem a menor média de tempos."
   ]
  },
  {
   "cell_type": "code",
   "execution_count": 8,
   "metadata": {},
   "outputs": [
    {
     "name": "stdout",
     "output_type": "stream",
     "text": [
      "1° lugar: Diego - 59.9 segs.\n",
      "2° lugar: Claudemir - 60.6 segs.\n",
      "3° lugar: Joao - 60.8 segs.\n",
      "4° lugar: Marcos - 61.2 segs.\n",
      "5° lugar: Rodrigo - 61.6 segs.\n",
      "6° lugar: Matheus - 63.8 segs.\n"
     ]
    }
   ],
   "source": [
    "import operator\n",
    "\n",
    "dic = {\n",
    "    \"Claudemir\": [57, 58, 60, 56, 64, 70, 59, 58, 69, 55],\n",
    "    \"Joao\": [56, 60, 72, 50, 67, 58, 61, 63, 62, 59],\n",
    "    \"Diego\": [79, 52, 58, 48, 58, 59, 61, 65, 59, 60],\n",
    "    \"Matheus\": [56, 50, 55, 70, 85, 73, 68, 65, 56, 60],\n",
    "    \"Marcos\": [69, 55, 67, 50, 52, 53, 70, 75, 65, 56],\n",
    "    \"Rodrigo\": [56, 63, 63, 65, 70, 59, 55, 60, 63, 62]\n",
    "}\n",
    "\n",
    "volta = 0\n",
    "medias = dic\n",
    "nome = \"\"\n",
    "melhorVolta = dic[\"Claudemir\"][0]\n",
    "for chave in dic:\n",
    "    soma = 0\n",
    "    for num in dic[chave]:\n",
    "        if num < melhorVolta:\n",
    "            melhorVolta = num\n",
    "            nome = chave\n",
    "        soma += num\n",
    "    medias[chave] = soma / 10\n",
    "\n",
    "#itemgeter 1 é a pos do valor do medias.items()\n",
    "sort = sorted(medias.items(), key=operator.itemgetter(1))\n",
    "for i in range(0, 6):\n",
    "    print(\"%s° lugar: %s - %s segs.\" % (i + 1, sort[i][0], sort[i][1]))"
   ]
  },
  {
   "cell_type": "markdown",
   "metadata": {},
   "source": [
    "20 Escreva um programa para armazenar uma agenda de telefones em um\n",
    "dicionário. Cada pessoa pode ter um ou mais telefones e a chave do dicionário é o\n",
    "nome da pessoa. Seu programa deve ter as seguintes funções:\n",
    "- incluirNovoNome – essa função acrescenta um novo nome na agenda, com um ou\n",
    "mais telefones. Ela deve receber como argumentos o nome e os telefones.\n",
    "- incluirTelefone – essa função acrescenta um telefone em um nome existente na\n",
    "agenda. Caso o nome não exista na agenda, você̂ deve perguntar se a pessoa deseja\n",
    "inclui-lo. Caso a resposta seja afirmativa, use a função anterior para incluir o novo\n",
    "nome.\n",
    "- excluirTelefone – essa função exclui um telefone de uma pessoa que já está na\n",
    "agenda. Se a pessoa tiver apenas um telefone, ela deve ser excluída da agenda.\n",
    "- excluirNome – essa função exclui uma pessoa da agenda.\n",
    "- consultarTelefone – essa função retorna os telefones de uma pessoa na agenda."
   ]
  },
  {
   "cell_type": "code",
   "execution_count": 9,
   "metadata": {},
   "outputs": [
    {
     "name": "stdout",
     "output_type": "stream",
     "text": [
      "\n",
      "Escolha uma opção: \n",
      "1 - Incluir Novo Nome\n",
      "2 - Incluir Telefone\n",
      "3 - Excluir Telefone\n",
      "4 - Consultar Agenda\n",
      "0 - Encerrar Programa\n",
      "0\n"
     ]
    }
   ],
   "source": [
    "agenda = {}\n",
    "\n",
    "def incluirNovoNome(nome, telefones):\n",
    "    global agenda\n",
    "    agenda[nome] = telefones\n",
    "    \n",
    "def incluirTelefone(nome, telefone):\n",
    "    global agenda\n",
    "    if nome in agenda.keys():\n",
    "        agenda[nome].append(telefone)\n",
    "    else:\n",
    "        if input(\"Essa pessoa não existe, incluir ela na agenda (s/n)? \") == \"s\":\n",
    "            telefones = [telefone]\n",
    "            incluirNovoNome(nome, telefones)\n",
    "            \n",
    "def excluirTelefone(nome, telefone):\n",
    "    global agenda\n",
    "    if nome in agenda.keys():\n",
    "        if len(agenda[nome]) == 1:\n",
    "            del agenda[nome]\n",
    "        else:\n",
    "            for num in range(0, len(agenda[nome]) - 1):\n",
    "                if telefone == agenda[nome][num]:\n",
    "                    agenda[nome].pop(num)\n",
    "        \n",
    "def consultarTelefone(nome):\n",
    "    global agenda\n",
    "    if nome in agenda.keys():\n",
    "        print(agenda[nome])\n",
    "    \n",
    "opcao = -1\n",
    "while opcao != 0:\n",
    "    opcao = int(input(\"\\nEscolha uma opção: \\n1 - Incluir Novo Nome\\n2 - Incluir Telefone\\n3 - Excluir Telefone\\n4 - Consultar Agenda\\n0 - Encerrar Programa\\n\"))\n",
    "    \n",
    "    # INSERIR NOVO NOME\n",
    "    if opcao == 1:\n",
    "        nome = input(\"Insira o nome da pessoa: \")\n",
    "        telefones = []\n",
    "        telefones.append(int(input(\"Insira um telefone da pessoa: \")))\n",
    "        telefone = -1\n",
    "        while telefone != 0:\n",
    "            telefone = int(input(\"Inserir outro telefone (ou digite 0 para parar): \"))\n",
    "            if telefone != 0:\n",
    "                telefones.append(telefone)\n",
    "        incluirNovoNome(nome, telefones)\n",
    "    # INCLUIR TELEFONE\n",
    "    elif opcao == 2:\n",
    "        nome = input(\"Insira o nome da pessoa: \")\n",
    "        telefone = int(input(\"Insira um novo telefone da pessoa: \"))\n",
    "        incluirTelefone(nome, telefone)\n",
    "    # EXCLUIR TELEFONE\n",
    "    elif opcao == 3:\n",
    "        nome = input(\"Insira o nome da pessoa: \")\n",
    "        telefone = int(input(\"Insira o telefone da pessoa a qual deseja excluir: \"))\n",
    "        excluirTelefone(nome, telefone)\n",
    "    elif opcao == 4:\n",
    "        consultarTelefone(input(\"Insira o nome da pessoa: \"))"
   ]
  },
  {
   "cell_type": "markdown",
   "metadata": {},
   "source": [
    "21 Faça um programa que leia um arquivo texto contendo uma lista de endereços IP\n",
    "e gere um outro arquivo, contendo um relatório dos endereços IP válidos e inválidos."
   ]
  },
  {
   "cell_type": "code",
   "execution_count": null,
   "metadata": {},
   "outputs": [],
   "source": [
    "import socket\n",
    "\n",
    "ipsValidos = []\n",
    "ipsInvalidos = []\n",
    "\n",
    "ips = open(\"ips.txt\")\n",
    "for ip in ips:\n",
    "    try:\n",
    "        socket.inet_aton(ip)\n",
    "        # Validos\n",
    "        ipsValidos.append(ip)\n",
    "    except socket.error:\n",
    "        # Invalidos\n",
    "        ipsInvalidos.append(ip)\n",
    "        \n",
    "ips.close()\n",
    "\n",
    "saida = open(\"ipsvalidados.txt\", \"w+\")\n",
    "\n",
    "saida.write(\"[Endereços válidos:]\\n\")\n",
    "for ip in ipsValidos:\n",
    "    saida.write(ip)\n",
    "    \n",
    "saida.write(\"[Endereços inválidos:]\\n\")\n",
    "for ip in ipsInvalidos:\n",
    "    saida.write(ip)\n",
    "    \n",
    "saida.close()"
   ]
  },
  {
   "cell_type": "markdown",
   "metadata": {},
   "source": [
    "22 A ACME Inc., uma empresa de 500 funcionários, está tendo problemas de espaço em disco no seu servidor de arquivos. Para tentar resolver este problema, o Administrador de Rede precisa saber qual o espaço ocupado pelos usuários, e identificar os usuários com maior espaço ocupado. Através de um programa, baixado da Internet, ele conseguiu gerar o seguinte arquivo, chamado \"usuarios.txt\":"
   ]
  },
  {
   "cell_type": "code",
   "execution_count": null,
   "metadata": {},
   "outputs": [],
   "source": [
    "def paraMb(tamanho):\n",
    "    return float(tamanho / (1024*1024))\n",
    "\n",
    "def usoMemoria(tamanho, total):\n",
    "    return float(tamanho / total) * 100\n",
    "\n",
    "dic = {}\n",
    "total = 0\n",
    "usuarios = open(\"usuarios.txt\")\n",
    "for usuario in usuarios:\n",
    "    nome, memoria = usuario.split(\" \")\n",
    "    dic[nome] = int(memoria)\n",
    "    total += int(memoria)\n",
    "usuarios.close()\n",
    "media = total / len(dic.keys())\n",
    "\n",
    "relatorio = open(\"relatório.txt\", \"w+\")\n",
    "relatorio.write(\"ACME Inc.               Uso do espaço em disco pelos usuários.\\n\")\n",
    "relatorio.write(\"--------------------------------------------------------------\\n\")\n",
    "relatorio.write(\"Nr.\\tUsuário \\tEspaço utilizado\\t% do uso\\n\")\n",
    "\n",
    "nr = 1\n",
    "for usuario in dic:\n",
    "    relatorio.write(str(nr) + \"\\t\" + usuario + \"\\t\" + \"{0:.2f}\".format(paraMb(dic[usuario])) + \" MB\\t\\t\" + \"{0:.2f}\".format(usoMemoria(dic[usuario], total)) + \"%\\n\")\n",
    "    nr += 1\n",
    "    \n",
    "\n",
    "relatorio.write(\"Espaço total ocupado: \" + \"{0:.2f}\".format(paraMb(total)) + \"\\n\")\n",
    "relatorio.write(\"Espaço médio ocupado: \" + \"{0:.2f}\".format(paraMb(media)))\n",
    "\n",
    "relatorio.close()"
   ]
  },
  {
   "cell_type": "code",
   "execution_count": null,
   "metadata": {},
   "outputs": [],
   "source": []
  }
 ],
 "metadata": {
  "kernelspec": {
   "display_name": "Python 3",
   "language": "python",
   "name": "python3"
  },
  "language_info": {
   "codemirror_mode": {
    "name": "ipython",
    "version": 3
   },
   "file_extension": ".py",
   "mimetype": "text/x-python",
   "name": "python",
   "nbconvert_exporter": "python",
   "pygments_lexer": "ipython3",
   "version": "3.6.6"
  }
 },
 "nbformat": 4,
 "nbformat_minor": 2
}
